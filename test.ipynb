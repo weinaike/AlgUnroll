{
 "cells": [
  {
   "cell_type": "code",
   "execution_count": 7,
   "metadata": {},
   "outputs": [
    {
     "name": "stdout",
     "output_type": "stream",
     "text": [
      "epoch 30\n",
      "module.alpha tensor([ 1.8266e-03,  1.2314e-03,  1.2191e-04,  8.7428e-05,  1.1441e-04,\n",
      "         2.3787e-06,  2.9161e-06,  2.9988e-06, -6.2392e-07,  1.0285e-04])\n",
      "module.beta tensor([5.0000e-05, 5.0000e-05, 5.0000e-05, 5.0000e-05, 5.0000e-05, 5.0000e-05,\n",
      "        5.0000e-05, 5.0000e-05, 5.0000e-05, 5.0000e-05])\n",
      "module.gamma_l1 tensor([5.0000e-05, 5.0000e-05, 5.0000e-05, 5.0000e-05, 5.0000e-05, 5.0000e-05,\n",
      "        5.0000e-05, 5.0000e-05, 5.0000e-05, 5.0000e-05])\n",
      "module.gamma_tv tensor([4.7113e-04, 1.3749e-04, 2.9682e-05, 1.1816e-04, 5.9887e-06, 4.1135e-05,\n",
      "        3.1892e-05, 1.2694e-04, 2.4980e-04, 1.4926e-04])\n",
      "module.delta tensor([5.1619e-06, 2.2406e-05, 1.2867e-04, 1.3560e-04, 4.1065e-05, 3.4946e-06,\n",
      "        1.0602e-06, 5.5412e-07, 8.9650e-07, 1.3925e-04])\n",
      "module.s tensor([5.0000e-05, 5.0000e-05, 5.0000e-05, 5.0000e-05, 5.0000e-05, 5.0000e-05,\n",
      "        5.0000e-05, 5.0000e-05, 5.0000e-05, 5.0000e-05])\n",
      "module.lambda_l1 tensor([5.0000e-05, 5.0000e-05, 5.0000e-05, 5.0000e-05, 5.0000e-05, 5.0000e-05,\n",
      "        5.0000e-05, 5.0000e-05, 5.0000e-05, 5.0000e-05])\n",
      "module.lambda_tv tensor([5.0000e-05, 1.2277e-05, 1.1251e-06, 5.9463e-06, 1.3130e-05, 4.8792e-06,\n",
      "        1.2428e-04, 4.9600e-05, 5.0746e-05, 1.2285e-04])\n",
      "module.sigma tensor([5.0000e-05, 5.0000e-05, 5.0000e-05, 5.0000e-05, 5.0000e-05, 5.0000e-05,\n",
      "        5.0000e-05, 5.0000e-05, 5.0000e-05, 5.0000e-05])\n",
      "module.xi tensor([5.0000e-05, 5.0000e-05, 5.0000e-05, 5.0000e-05, 5.0000e-05, 5.0000e-05,\n",
      "        5.0000e-05, 5.0000e-05, 5.0000e-05, 5.0000e-05])\n",
      "module.param.0 tensor([5.0000e-05, 5.0000e-05, 5.0000e-05, 5.0000e-05, 5.0000e-05, 5.0000e-05,\n",
      "        5.0000e-05, 5.0000e-05, 5.0000e-05, 5.0000e-05])\n",
      "module.param.1 tensor([4.7113e-04, 1.3749e-04, 2.9682e-05, 1.1816e-04, 5.9887e-06, 4.1135e-05,\n",
      "        3.1892e-05, 1.2694e-04, 2.4980e-04, 1.4926e-04])\n",
      "module.param.2 tensor([ 1.8266e-03,  1.2314e-03,  1.2191e-04,  8.7428e-05,  1.1441e-04,\n",
      "         2.3787e-06,  2.9161e-06,  2.9988e-06, -6.2392e-07,  1.0285e-04])\n",
      "module.param.3 tensor([5.0000e-05, 5.0000e-05, 5.0000e-05, 5.0000e-05, 5.0000e-05, 5.0000e-05,\n",
      "        5.0000e-05, 5.0000e-05, 5.0000e-05, 5.0000e-05])\n",
      "module.param.4 tensor([5.1619e-06, 2.2406e-05, 1.2867e-04, 1.3560e-04, 4.1065e-05, 3.4946e-06,\n",
      "        1.0602e-06, 5.5412e-07, 8.9650e-07, 1.3925e-04])\n",
      "module.param.5 tensor([5.0000e-05, 5.0000e-05, 5.0000e-05, 5.0000e-05, 5.0000e-05, 5.0000e-05,\n",
      "        5.0000e-05, 5.0000e-05, 5.0000e-05, 5.0000e-05])\n",
      "module.param.6 tensor([5.0000e-05, 5.0000e-05, 5.0000e-05, 5.0000e-05, 5.0000e-05, 5.0000e-05,\n",
      "        5.0000e-05, 5.0000e-05, 5.0000e-05, 5.0000e-05])\n",
      "module.param.7 tensor([5.0000e-05, 1.2277e-05, 1.1251e-06, 5.9463e-06, 1.3130e-05, 4.8792e-06,\n",
      "        1.2428e-04, 4.9600e-05, 5.0746e-05, 1.2285e-04])\n",
      "module.param.8 tensor([5.0000e-05, 5.0000e-05, 5.0000e-05, 5.0000e-05, 5.0000e-05, 5.0000e-05,\n",
      "        5.0000e-05, 5.0000e-05, 5.0000e-05, 5.0000e-05])\n",
      "module.param.9 tensor([5.0000e-05, 5.0000e-05, 5.0000e-05, 5.0000e-05, 5.0000e-05, 5.0000e-05,\n",
      "        5.0000e-05, 5.0000e-05, 5.0000e-05, 5.0000e-05])\n"
     ]
    }
   ],
   "source": [
    "import torch\n",
    "\n",
    "model_path = \"debug/20230710162225/admm_reconstruct.pth\"\n",
    "dict = torch.load(model_path, map_location=torch.device('cpu'))\n",
    "print(\"epoch\",dict['epoch'])\n",
    "for k, v in dict[\"state_dict\"].items():\n",
    "    print(k,v)\n",
    "\n",
    "# import math\n",
    "# def closest_power_of_two(n):\n",
    "#     power = math.floor(math.log2(n)) + 1\n",
    "#     result = 2 ** power\n",
    "#     return result\n",
    "# print(closest_power_of_two(480))"
   ]
  }
 ],
 "metadata": {
  "kernelspec": {
   "display_name": "base",
   "language": "python",
   "name": "python3"
  },
  "language_info": {
   "codemirror_mode": {
    "name": "ipython",
    "version": 3
   },
   "file_extension": ".py",
   "mimetype": "text/x-python",
   "name": "python",
   "nbconvert_exporter": "python",
   "pygments_lexer": "ipython3",
   "version": "3.9.13"
  },
  "orig_nbformat": 4
 },
 "nbformat": 4,
 "nbformat_minor": 2
}
