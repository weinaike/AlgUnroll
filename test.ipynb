{
 "cells": [
  {
   "cell_type": "code",
   "execution_count": 54,
   "metadata": {},
   "outputs": [
    {
     "name": "stdout",
     "output_type": "stream",
     "text": [
      "epoch 109\n",
      "module.alpha tensor([ 9.2566,  9.4211,  9.5625, 10.5863, 10.6892, 10.6220, 10.2805,  9.4553,\n",
      "         9.1071,  9.1877])\n"
     ]
    }
   ],
   "source": [
    "import torch\n",
    "\n",
    "model_path = \"debug/20230602151850/spectral_fc_01.pth\"\n",
    "dict = torch.load(model_path, map_location=torch.device('cpu'))\n",
    "print(\"epoch\",dict['epoch'])\n",
    "for k, v in dict[\"state_dict\"].items():\n",
    "    if \"alpha\" in k:\n",
    "        print(k,v)\n"
   ]
  }
 ],
 "metadata": {
  "kernelspec": {
   "display_name": "base",
   "language": "python",
   "name": "python3"
  },
  "language_info": {
   "codemirror_mode": {
    "name": "ipython",
    "version": 3
   },
   "file_extension": ".py",
   "mimetype": "text/x-python",
   "name": "python",
   "nbconvert_exporter": "python",
   "pygments_lexer": "ipython3",
   "version": "3.9.13"
  },
  "orig_nbformat": 4
 },
 "nbformat": 4,
 "nbformat_minor": 2
}
