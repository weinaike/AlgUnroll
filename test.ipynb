{
 "cells": [
  {
   "cell_type": "code",
   "execution_count": 57,
   "metadata": {},
   "outputs": [
    {
     "name": "stdout",
     "output_type": "stream",
     "text": [
      "epoch 38\n",
      "module.gamma_l1 tensor([ 5.1207,  2.7349,  6.6022,  0.8183,  2.7519,  4.5951,  1.7131,  0.0723,\n",
      "         0.9764, -1.0656])\n",
      "module.gamma_tv tensor([11.3816,  8.3135,  5.5072,  8.3101,  8.8813,  7.9330,  7.3709,  8.1126,\n",
      "         7.1654, 10.2853])\n",
      "module.gamma_dwt tensor([5., 5., 5., 5., 5., 5., 5., 5., 5., 5.])\n"
     ]
    }
   ],
   "source": [
    "import torch\n",
    "\n",
    "model_path = \"debug/20230605094528/spectral_fc_01.pth\"\n",
    "dict = torch.load(model_path, map_location=torch.device('cpu'))\n",
    "print(\"epoch\",dict['epoch'])\n",
    "for k, v in dict[\"state_dict\"].items():\n",
    "    if \"lambda\" in k:\n",
    "        print(k,v)\n"
   ]
  }
 ],
 "metadata": {
  "kernelspec": {
   "display_name": "base",
   "language": "python",
   "name": "python3"
  },
  "language_info": {
   "codemirror_mode": {
    "name": "ipython",
    "version": 3
   },
   "file_extension": ".py",
   "mimetype": "text/x-python",
   "name": "python",
   "nbconvert_exporter": "python",
   "pygments_lexer": "ipython3",
   "version": "3.9.13"
  },
  "orig_nbformat": 4
 },
 "nbformat": 4,
 "nbformat_minor": 2
}
