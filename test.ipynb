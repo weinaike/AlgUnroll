{
 "cells": [
  {
   "cell_type": "code",
   "execution_count": 2,
   "metadata": {},
   "outputs": [
    {
     "name": "stdout",
     "output_type": "stream",
     "text": [
      "512\n"
     ]
    }
   ],
   "source": [
    "import torch\n",
    "\n",
    "# model_path = \"debug/20230605150559/spectral_fc_01.pth\"\n",
    "# dict = torch.load(model_path, map_location=torch.device('cpu'))\n",
    "# print(\"epoch\",dict['epoch'])\n",
    "# for k, v in dict[\"state_dict\"].items():\n",
    "#     if \"lambda\" in k:\n",
    "#         print(k,v)\n",
    "\n",
    "import math\n",
    "def closest_power_of_two(n):\n",
    "    power = math.floor(math.log2(n)) + 1\n",
    "    result = 2 ** power\n",
    "    return result\n",
    "print(closest_power_of_two(480))"
   ]
  }
 ],
 "metadata": {
  "kernelspec": {
   "display_name": "base",
   "language": "python",
   "name": "python3"
  },
  "language_info": {
   "codemirror_mode": {
    "name": "ipython",
    "version": 3
   },
   "file_extension": ".py",
   "mimetype": "text/x-python",
   "name": "python",
   "nbconvert_exporter": "python",
   "pygments_lexer": "ipython3",
   "version": "3.9.13"
  },
  "orig_nbformat": 4
 },
 "nbformat": 4,
 "nbformat_minor": 2
}
