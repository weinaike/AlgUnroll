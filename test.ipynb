{
 "cells": [
  {
   "cell_type": "code",
   "execution_count": 65,
   "metadata": {},
   "outputs": [
    {
     "name": "stdout",
     "output_type": "stream",
     "text": [
      "epoch 60\n",
      "module.lambda_l1 tensor([ 0.5968,  0.4106,  0.9196, -0.0564,  0.1101, -0.1365,  0.0909, -0.8715,\n",
      "         0.4072, -0.3280])\n",
      "module.lambda_tv tensor([ 0.0010,  0.5761,  0.7933,  0.5102, -0.6357,  0.2458,  0.1870,  0.5339,\n",
      "         0.3418,  0.6492])\n",
      "module.lambda_dwt tensor([0.0010, 0.0010, 0.0010, 0.0010, 0.0010, 0.0010, 0.0010, 0.0010, 0.0010,\n",
      "        0.0010])\n"
     ]
    }
   ],
   "source": [
    "import torch\n",
    "\n",
    "model_path = \"debug/20230605150559/spectral_fc_01.pth\"\n",
    "dict = torch.load(model_path, map_location=torch.device('cpu'))\n",
    "print(\"epoch\",dict['epoch'])\n",
    "for k, v in dict[\"state_dict\"].items():\n",
    "    if \"lambda\" in k:\n",
    "        print(k,v)\n"
   ]
  }
 ],
 "metadata": {
  "kernelspec": {
   "display_name": "base",
   "language": "python",
   "name": "python3"
  },
  "language_info": {
   "codemirror_mode": {
    "name": "ipython",
    "version": 3
   },
   "file_extension": ".py",
   "mimetype": "text/x-python",
   "name": "python",
   "nbconvert_exporter": "python",
   "pygments_lexer": "ipython3",
   "version": "3.9.13"
  },
  "orig_nbformat": 4
 },
 "nbformat": 4,
 "nbformat_minor": 2
}
